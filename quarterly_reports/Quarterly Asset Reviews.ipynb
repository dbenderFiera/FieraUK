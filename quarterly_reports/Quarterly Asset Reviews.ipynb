{
 "cells": [
  {
   "cell_type": "code",
   "execution_count": 33,
   "metadata": {},
   "outputs": [],
   "source": [
    "## Install required packages\n",
    "\n",
    "import pandas as pd\n",
    "import numpy as np\n",
    "import matplotlib.pyplot as plt\n",
    "import seaborn as sns\n",
    "import requests\n",
    "from airtable import Airtable\n",
    "import docx"
   ]
  },
  {
   "cell_type": "code",
   "execution_count": 88,
   "metadata": {},
   "outputs": [],
   "source": [
    "from docx import Document\n",
    "from docx.shared import Inches\n",
    "\n",
    "def Create_QAR(QAR_data_table, quarter, year):\n",
    "    '''Produces a Word document from table data for a Fiera Real Estate UK\n",
    "    Quarterly Assset Review.\n",
    "    \n",
    "    Uses the columns as references.'''\n",
    "    # Create the document object\n",
    "    document = Document()\n",
    "    \n",
    "    # Set Core properties of the document\n",
    "    document.core_properties.title = 'Fiera Real Estate UK: ' + QAR_data_table['Name']\n",
    "    document.core_properties.author = 'David Bender'\n",
    "    document.core_properties.comments = 'Provided with permission by Fiera Real Estate UK Limited, not for distribution'\n",
    "    \n",
    "    # Title and headers\n",
    "    title = document.add_heading('', 1)\n",
    "    t = title.add_run()\n",
    "    t.add_picture('images/FREUK_logo.png', width=Inches(1.5))\n",
    "    t.add_text('\\t{} - {},{} Asset Overview'.format(QAR_data_table['Name'],quarter, year))\n",
    "    \n",
    "    # Save file\n",
    "    path = 'testing_qars/{}.docx'.format(QAR_data_table['Name'])\n",
    "    document.save(path)"
   ]
  },
  {
   "cell_type": "code",
   "execution_count": 89,
   "metadata": {},
   "outputs": [
    {
     "data": {
      "text/html": [
       "<div>\n",
       "<style scoped>\n",
       "    .dataframe tbody tr th:only-of-type {\n",
       "        vertical-align: middle;\n",
       "    }\n",
       "\n",
       "    .dataframe tbody tr th {\n",
       "        vertical-align: top;\n",
       "    }\n",
       "\n",
       "    .dataframe thead th {\n",
       "        text-align: right;\n",
       "    }\n",
       "</style>\n",
       "<table border=\"1\" class=\"dataframe\">\n",
       "  <thead>\n",
       "    <tr style=\"text-align: right;\">\n",
       "      <th></th>\n",
       "      <th>Name</th>\n",
       "    </tr>\n",
       "  </thead>\n",
       "  <tbody>\n",
       "    <tr>\n",
       "      <th>0</th>\n",
       "      <td>Testing123</td>\n",
       "    </tr>\n",
       "    <tr>\n",
       "      <th>1</th>\n",
       "      <td>Heyo456</td>\n",
       "    </tr>\n",
       "  </tbody>\n",
       "</table>\n",
       "</div>"
      ],
      "text/plain": [
       "         Name\n",
       "0  Testing123\n",
       "1     Heyo456"
      ]
     },
     "execution_count": 89,
     "metadata": {},
     "output_type": "execute_result"
    }
   ],
   "source": [
    "test_table = pd.DataFrame({'Name':['Testing123','Heyo456']})\n",
    "test_table"
   ]
  },
  {
   "cell_type": "code",
   "execution_count": 90,
   "metadata": {},
   "outputs": [],
   "source": [
    "for i in range(len(test_table)):\n",
    "    Create_QAR(test_table.iloc[i],'Q2','2020')"
   ]
  },
  {
   "cell_type": "code",
   "execution_count": 63,
   "metadata": {},
   "outputs": [],
   "source": [
    "document.save('test.docx')"
   ]
  }
 ],
 "metadata": {
  "kernelspec": {
   "display_name": "Python 3",
   "language": "python",
   "name": "python3"
  },
  "language_info": {
   "codemirror_mode": {
    "name": "ipython",
    "version": 3
   },
   "file_extension": ".py",
   "mimetype": "text/x-python",
   "name": "python",
   "nbconvert_exporter": "python",
   "pygments_lexer": "ipython3",
   "version": "3.7.3"
  }
 },
 "nbformat": 4,
 "nbformat_minor": 4
}
